{
 "cells": [
  {
   "cell_type": "markdown",
   "id": "fe00310e-d934-4369-9ed9-5039aa230861",
   "metadata": {},
   "source": [
    "# Stock prediction: 1D convolution"
   ]
  },
  {
   "cell_type": "code",
   "execution_count": 1,
   "id": "abc4e2e2-d9dd-4b9d-bc78-e30adf2e688d",
   "metadata": {},
   "outputs": [
    {
     "name": "stdout",
     "output_type": "stream",
     "text": [
      "WARNING:tensorflow:From C:\\Users\\lucat\\anaconda3\\envs\\AI_LAB\\lib\\site-packages\\keras\\src\\losses.py:2976: The name tf.losses.sparse_softmax_cross_entropy is deprecated. Please use tf.compat.v1.losses.sparse_softmax_cross_entropy instead.\n",
      "\n"
     ]
    }
   ],
   "source": [
    "import pandas as pd\n",
    "import numpy as np\n",
    "import pandas_market_calendars as mcal\n",
    "import matplotlib.pyplot as plt\n",
    "import tensorflow as tf\n",
    "from tensorflow.keras import Sequential\n",
    "from tensorflow.keras.layers import Bidirectional\n",
    "from tensorflow.keras.layers import LSTM\n",
    "from tensorflow.keras.layers import Dropout\n",
    "from tensorflow.keras.layers import Dense\n",
    "from tensorflow.keras.layers import InputLayer\n",
    "from tensorflow.keras.layers import \n",
    "\n",
    "from tensorflow.keras.utils import plot_model\n",
    "\n",
    "from utils import *\n",
    "\n",
    "# for Robust location estimation\n",
    "from statsmodels import robust\n",
    "import statsmodels.api as sm\n",
    "from astropy.stats import biweight_location\n",
    "\n",
    "tf.random.set_seed(25)"
   ]
  },
  {
   "cell_type": "code",
   "execution_count": 2,
   "id": "c81fa7c0-3409-4cf8-97c3-53b4c23107bf",
   "metadata": {},
   "outputs": [],
   "source": [
    "prices = pd.read_csv(\"data/SX5E/close_mat.csv\")\n",
    "composition = pd.read_csv(\"data/SX5E/SX5E Index_compositionMat.csv\")\n",
    "capitalization = pd.read_csv(\"data/SX5E/capitalization_mat.csv\")\n",
    "\n",
    "prices = setup_tables(prices)\n",
    "composition = setup_tables(composition)\n",
    "capitalization = setup_tables(capitalization)\n",
    "\n",
    "prices = select_time_slice(prices, start=20140101, end=20181231)\n",
    "capitalization = select_time_slice(capitalization, start=20140101, end=20181231)\n",
    "composition = select_time_slice(composition, start=20140101, end=20181231)\n",
    "\n",
    "prices.set_index(\"Date\", drop=True, inplace=True)\n",
    "composition.set_index(\"Date\", drop=True, inplace=True)\n",
    "capitalization.set_index(\"Date\", drop=True, inplace=True)"
   ]
  },
  {
   "cell_type": "code",
   "execution_count": 3,
   "id": "9c131c9c-81dd-49b4-bc8f-11fbdfa10aa9",
   "metadata": {},
   "outputs": [
    {
     "name": "stdout",
     "output_type": "stream",
     "text": [
      "Number of stocks = 40\n"
     ]
    }
   ],
   "source": [
    "stocks = get_full_time_stock_in_period(composition.iloc[:, 1:])\n",
    "print(\"Number of stocks =\", len(stocks))"
   ]
  },
  {
   "cell_type": "code",
   "execution_count": 4,
   "id": "ce7e04d0-5a2b-47ae-b84c-691ee293a717",
   "metadata": {},
   "outputs": [
    {
     "name": "stdout",
     "output_type": "stream",
     "text": [
      "Total number of trading days = 1272\n"
     ]
    }
   ],
   "source": [
    "trading_days = get_trading_dates(start_period=\"2014-01-01\", end_period=\"2018-12-31\", market=\"EUREX\")\n",
    "print(\"Total number of trading days =\", len(trading_days))"
   ]
  },
  {
   "cell_type": "code",
   "execution_count": 5,
   "id": "b407c927-845b-48e2-826d-01b0803e28b5",
   "metadata": {},
   "outputs": [],
   "source": [
    "prices = prices[stocks].loc[trading_days]\n",
    "capitalization = capitalization[stocks].loc[trading_days]\n",
    "composition = composition[stocks].loc[trading_days]"
   ]
  },
  {
   "cell_type": "code",
   "execution_count": 6,
   "id": "dcf6ffb9-19c8-4abb-a026-bb12b45cf50a",
   "metadata": {},
   "outputs": [
    {
     "data": {
      "text/html": [
       "<div>\n",
       "<style scoped>\n",
       "    .dataframe tbody tr th:only-of-type {\n",
       "        vertical-align: middle;\n",
       "    }\n",
       "\n",
       "    .dataframe tbody tr th {\n",
       "        vertical-align: top;\n",
       "    }\n",
       "\n",
       "    .dataframe thead th {\n",
       "        text-align: right;\n",
       "    }\n",
       "</style>\n",
       "<table border=\"1\" class=\"dataframe\">\n",
       "  <thead>\n",
       "    <tr style=\"text-align: right;\">\n",
       "      <th></th>\n",
       "      <th>VOW3 GY Equity</th>\n",
       "      <th>ENGI FP Equity</th>\n",
       "      <th>BAYN GY Equity</th>\n",
       "      <th>BNP FP Equity</th>\n",
       "      <th>PHIA NA Equity</th>\n",
       "      <th>ISP IM Equity</th>\n",
       "      <th>SAN FP Equity</th>\n",
       "      <th>MC FP Equity</th>\n",
       "      <th>ENEL IM Equity</th>\n",
       "      <th>CS FP Equity</th>\n",
       "      <th>...</th>\n",
       "      <th>GLE FP Equity</th>\n",
       "      <th>ITX SQ Equity</th>\n",
       "      <th>OR FP Equity</th>\n",
       "      <th>BBVA SQ Equity</th>\n",
       "      <th>ASML NA Equity</th>\n",
       "      <th>SAP GY Equity</th>\n",
       "      <th>INGA NA Equity</th>\n",
       "      <th>ENI IM Equity</th>\n",
       "      <th>ABI BB Equity</th>\n",
       "      <th>DTE GY Equity</th>\n",
       "    </tr>\n",
       "  </thead>\n",
       "  <tbody>\n",
       "    <tr>\n",
       "      <th>2014-01-02</th>\n",
       "      <td>NaN</td>\n",
       "      <td>NaN</td>\n",
       "      <td>NaN</td>\n",
       "      <td>NaN</td>\n",
       "      <td>NaN</td>\n",
       "      <td>NaN</td>\n",
       "      <td>NaN</td>\n",
       "      <td>NaN</td>\n",
       "      <td>NaN</td>\n",
       "      <td>NaN</td>\n",
       "      <td>...</td>\n",
       "      <td>NaN</td>\n",
       "      <td>NaN</td>\n",
       "      <td>NaN</td>\n",
       "      <td>NaN</td>\n",
       "      <td>NaN</td>\n",
       "      <td>NaN</td>\n",
       "      <td>NaN</td>\n",
       "      <td>NaN</td>\n",
       "      <td>NaN</td>\n",
       "      <td>NaN</td>\n",
       "    </tr>\n",
       "    <tr>\n",
       "      <th>2014-01-03</th>\n",
       "      <td>0.000000</td>\n",
       "      <td>0.001795</td>\n",
       "      <td>0.007496</td>\n",
       "      <td>0.002521</td>\n",
       "      <td>0.004668</td>\n",
       "      <td>0.014582</td>\n",
       "      <td>0.013826</td>\n",
       "      <td>-0.001905</td>\n",
       "      <td>0.014040</td>\n",
       "      <td>0.003804</td>\n",
       "      <td>...</td>\n",
       "      <td>-0.004697</td>\n",
       "      <td>0.002530</td>\n",
       "      <td>0.007564</td>\n",
       "      <td>-0.003199</td>\n",
       "      <td>-0.000148</td>\n",
       "      <td>0.000649</td>\n",
       "      <td>0.000496</td>\n",
       "      <td>0.009238</td>\n",
       "      <td>0.011242</td>\n",
       "      <td>0.011542</td>\n",
       "    </tr>\n",
       "    <tr>\n",
       "      <th>2014-01-06</th>\n",
       "      <td>-0.008728</td>\n",
       "      <td>-0.011944</td>\n",
       "      <td>-0.004464</td>\n",
       "      <td>0.001616</td>\n",
       "      <td>0.007805</td>\n",
       "      <td>0.010503</td>\n",
       "      <td>0.001311</td>\n",
       "      <td>-0.018702</td>\n",
       "      <td>0.002517</td>\n",
       "      <td>-0.002021</td>\n",
       "      <td>...</td>\n",
       "      <td>0.009316</td>\n",
       "      <td>-0.005046</td>\n",
       "      <td>-0.009087</td>\n",
       "      <td>0.010659</td>\n",
       "      <td>-0.025092</td>\n",
       "      <td>0.004699</td>\n",
       "      <td>-0.010312</td>\n",
       "      <td>0.005721</td>\n",
       "      <td>-0.017918</td>\n",
       "      <td>-0.006520</td>\n",
       "    </tr>\n",
       "    <tr>\n",
       "      <th>2014-01-07</th>\n",
       "      <td>0.006289</td>\n",
       "      <td>0.012390</td>\n",
       "      <td>0.010463</td>\n",
       "      <td>0.028689</td>\n",
       "      <td>0.007929</td>\n",
       "      <td>0.032823</td>\n",
       "      <td>-0.001179</td>\n",
       "      <td>-0.007001</td>\n",
       "      <td>0.012555</td>\n",
       "      <td>0.025316</td>\n",
       "      <td>...</td>\n",
       "      <td>0.040278</td>\n",
       "      <td>0.009721</td>\n",
       "      <td>0.005582</td>\n",
       "      <td>0.057042</td>\n",
       "      <td>-0.008024</td>\n",
       "      <td>-0.007903</td>\n",
       "      <td>0.035467</td>\n",
       "      <td>0.004551</td>\n",
       "      <td>0.020109</td>\n",
       "      <td>0.004922</td>\n",
       "    </tr>\n",
       "    <tr>\n",
       "      <th>2014-01-08</th>\n",
       "      <td>0.000750</td>\n",
       "      <td>0.005970</td>\n",
       "      <td>-0.012820</td>\n",
       "      <td>0.014293</td>\n",
       "      <td>0.001829</td>\n",
       "      <td>0.021716</td>\n",
       "      <td>-0.012325</td>\n",
       "      <td>-0.014493</td>\n",
       "      <td>0.004960</td>\n",
       "      <td>0.006914</td>\n",
       "      <td>...</td>\n",
       "      <td>0.029730</td>\n",
       "      <td>-0.006697</td>\n",
       "      <td>-0.018636</td>\n",
       "      <td>0.006973</td>\n",
       "      <td>0.002747</td>\n",
       "      <td>0.016908</td>\n",
       "      <td>0.021287</td>\n",
       "      <td>-0.016421</td>\n",
       "      <td>0.004830</td>\n",
       "      <td>-0.002041</td>\n",
       "    </tr>\n",
       "    <tr>\n",
       "      <th>...</th>\n",
       "      <td>...</td>\n",
       "      <td>...</td>\n",
       "      <td>...</td>\n",
       "      <td>...</td>\n",
       "      <td>...</td>\n",
       "      <td>...</td>\n",
       "      <td>...</td>\n",
       "      <td>...</td>\n",
       "      <td>...</td>\n",
       "      <td>...</td>\n",
       "      <td>...</td>\n",
       "      <td>...</td>\n",
       "      <td>...</td>\n",
       "      <td>...</td>\n",
       "      <td>...</td>\n",
       "      <td>...</td>\n",
       "      <td>...</td>\n",
       "      <td>...</td>\n",
       "      <td>...</td>\n",
       "      <td>...</td>\n",
       "      <td>...</td>\n",
       "    </tr>\n",
       "    <tr>\n",
       "      <th>2018-12-21</th>\n",
       "      <td>-0.004169</td>\n",
       "      <td>0.003610</td>\n",
       "      <td>0.006393</td>\n",
       "      <td>0.002538</td>\n",
       "      <td>-0.002107</td>\n",
       "      <td>-0.016864</td>\n",
       "      <td>-0.006172</td>\n",
       "      <td>0.013395</td>\n",
       "      <td>0.007382</td>\n",
       "      <td>0.005779</td>\n",
       "      <td>...</td>\n",
       "      <td>0.005729</td>\n",
       "      <td>0.003972</td>\n",
       "      <td>-0.004464</td>\n",
       "      <td>-0.007628</td>\n",
       "      <td>-0.013355</td>\n",
       "      <td>-0.015381</td>\n",
       "      <td>0.014214</td>\n",
       "      <td>-0.003761</td>\n",
       "      <td>-0.001508</td>\n",
       "      <td>-0.007603</td>\n",
       "    </tr>\n",
       "    <tr>\n",
       "      <th>2018-12-24</th>\n",
       "      <td>0.000000</td>\n",
       "      <td>-0.018385</td>\n",
       "      <td>0.000000</td>\n",
       "      <td>-0.017975</td>\n",
       "      <td>-0.013478</td>\n",
       "      <td>0.000000</td>\n",
       "      <td>-0.019027</td>\n",
       "      <td>-0.032748</td>\n",
       "      <td>0.000000</td>\n",
       "      <td>-0.001490</td>\n",
       "      <td>...</td>\n",
       "      <td>-0.017088</td>\n",
       "      <td>-0.021978</td>\n",
       "      <td>-0.015197</td>\n",
       "      <td>-0.013100</td>\n",
       "      <td>-0.015792</td>\n",
       "      <td>0.000000</td>\n",
       "      <td>-0.018019</td>\n",
       "      <td>0.000000</td>\n",
       "      <td>-0.018798</td>\n",
       "      <td>0.000000</td>\n",
       "    </tr>\n",
       "    <tr>\n",
       "      <th>2018-12-27</th>\n",
       "      <td>-0.040893</td>\n",
       "      <td>-0.021173</td>\n",
       "      <td>-0.036325</td>\n",
       "      <td>-0.006316</td>\n",
       "      <td>-0.002304</td>\n",
       "      <td>-0.001673</td>\n",
       "      <td>-0.006465</td>\n",
       "      <td>0.008158</td>\n",
       "      <td>-0.026610</td>\n",
       "      <td>-0.012148</td>\n",
       "      <td>...</td>\n",
       "      <td>-0.014306</td>\n",
       "      <td>-0.002697</td>\n",
       "      <td>-0.010372</td>\n",
       "      <td>-0.002852</td>\n",
       "      <td>0.013295</td>\n",
       "      <td>-0.007290</td>\n",
       "      <td>-0.013735</td>\n",
       "      <td>-0.018441</td>\n",
       "      <td>-0.018987</td>\n",
       "      <td>-0.027981</td>\n",
       "    </tr>\n",
       "    <tr>\n",
       "      <th>2018-12-28</th>\n",
       "      <td>0.010768</td>\n",
       "      <td>0.021215</td>\n",
       "      <td>0.023665</td>\n",
       "      <td>0.021533</td>\n",
       "      <td>0.012869</td>\n",
       "      <td>0.016134</td>\n",
       "      <td>0.019794</td>\n",
       "      <td>0.022658</td>\n",
       "      <td>-0.000792</td>\n",
       "      <td>0.012945</td>\n",
       "      <td>...</td>\n",
       "      <td>0.021312</td>\n",
       "      <td>0.009013</td>\n",
       "      <td>0.012781</td>\n",
       "      <td>0.021122</td>\n",
       "      <td>0.030161</td>\n",
       "      <td>0.013288</td>\n",
       "      <td>0.018170</td>\n",
       "      <td>0.016864</td>\n",
       "      <td>0.002616</td>\n",
       "      <td>0.015764</td>\n",
       "    </tr>\n",
       "    <tr>\n",
       "      <th>2018-12-31</th>\n",
       "      <td>0.000000</td>\n",
       "      <td>0.020367</td>\n",
       "      <td>0.000000</td>\n",
       "      <td>0.002540</td>\n",
       "      <td>0.007656</td>\n",
       "      <td>0.000000</td>\n",
       "      <td>0.005849</td>\n",
       "      <td>0.021563</td>\n",
       "      <td>0.000000</td>\n",
       "      <td>0.004153</td>\n",
       "      <td>...</td>\n",
       "      <td>0.000899</td>\n",
       "      <td>-0.001786</td>\n",
       "      <td>0.015649</td>\n",
       "      <td>-0.001185</td>\n",
       "      <td>0.003953</td>\n",
       "      <td>0.000000</td>\n",
       "      <td>0.005557</td>\n",
       "      <td>0.000000</td>\n",
       "      <td>0.003478</td>\n",
       "      <td>0.000000</td>\n",
       "    </tr>\n",
       "  </tbody>\n",
       "</table>\n",
       "<p>1272 rows × 40 columns</p>\n",
       "</div>"
      ],
      "text/plain": [
       "            VOW3 GY Equity  ENGI FP Equity  BAYN GY Equity  BNP FP Equity  \\\n",
       "2014-01-02             NaN             NaN             NaN            NaN   \n",
       "2014-01-03        0.000000        0.001795        0.007496       0.002521   \n",
       "2014-01-06       -0.008728       -0.011944       -0.004464       0.001616   \n",
       "2014-01-07        0.006289        0.012390        0.010463       0.028689   \n",
       "2014-01-08        0.000750        0.005970       -0.012820       0.014293   \n",
       "...                    ...             ...             ...            ...   \n",
       "2018-12-21       -0.004169        0.003610        0.006393       0.002538   \n",
       "2018-12-24        0.000000       -0.018385        0.000000      -0.017975   \n",
       "2018-12-27       -0.040893       -0.021173       -0.036325      -0.006316   \n",
       "2018-12-28        0.010768        0.021215        0.023665       0.021533   \n",
       "2018-12-31        0.000000        0.020367        0.000000       0.002540   \n",
       "\n",
       "            PHIA NA Equity  ISP IM Equity  SAN FP Equity  MC FP Equity  \\\n",
       "2014-01-02             NaN            NaN            NaN           NaN   \n",
       "2014-01-03        0.004668       0.014582       0.013826     -0.001905   \n",
       "2014-01-06        0.007805       0.010503       0.001311     -0.018702   \n",
       "2014-01-07        0.007929       0.032823      -0.001179     -0.007001   \n",
       "2014-01-08        0.001829       0.021716      -0.012325     -0.014493   \n",
       "...                    ...            ...            ...           ...   \n",
       "2018-12-21       -0.002107      -0.016864      -0.006172      0.013395   \n",
       "2018-12-24       -0.013478       0.000000      -0.019027     -0.032748   \n",
       "2018-12-27       -0.002304      -0.001673      -0.006465      0.008158   \n",
       "2018-12-28        0.012869       0.016134       0.019794      0.022658   \n",
       "2018-12-31        0.007656       0.000000       0.005849      0.021563   \n",
       "\n",
       "            ENEL IM Equity  CS FP Equity  ...  GLE FP Equity  ITX SQ Equity  \\\n",
       "2014-01-02             NaN           NaN  ...            NaN            NaN   \n",
       "2014-01-03        0.014040      0.003804  ...      -0.004697       0.002530   \n",
       "2014-01-06        0.002517     -0.002021  ...       0.009316      -0.005046   \n",
       "2014-01-07        0.012555      0.025316  ...       0.040278       0.009721   \n",
       "2014-01-08        0.004960      0.006914  ...       0.029730      -0.006697   \n",
       "...                    ...           ...  ...            ...            ...   \n",
       "2018-12-21        0.007382      0.005779  ...       0.005729       0.003972   \n",
       "2018-12-24        0.000000     -0.001490  ...      -0.017088      -0.021978   \n",
       "2018-12-27       -0.026610     -0.012148  ...      -0.014306      -0.002697   \n",
       "2018-12-28       -0.000792      0.012945  ...       0.021312       0.009013   \n",
       "2018-12-31        0.000000      0.004153  ...       0.000899      -0.001786   \n",
       "\n",
       "            OR FP Equity  BBVA SQ Equity  ASML NA Equity  SAP GY Equity  \\\n",
       "2014-01-02           NaN             NaN             NaN            NaN   \n",
       "2014-01-03      0.007564       -0.003199       -0.000148       0.000649   \n",
       "2014-01-06     -0.009087        0.010659       -0.025092       0.004699   \n",
       "2014-01-07      0.005582        0.057042       -0.008024      -0.007903   \n",
       "2014-01-08     -0.018636        0.006973        0.002747       0.016908   \n",
       "...                  ...             ...             ...            ...   \n",
       "2018-12-21     -0.004464       -0.007628       -0.013355      -0.015381   \n",
       "2018-12-24     -0.015197       -0.013100       -0.015792       0.000000   \n",
       "2018-12-27     -0.010372       -0.002852        0.013295      -0.007290   \n",
       "2018-12-28      0.012781        0.021122        0.030161       0.013288   \n",
       "2018-12-31      0.015649       -0.001185        0.003953       0.000000   \n",
       "\n",
       "            INGA NA Equity  ENI IM Equity  ABI BB Equity  DTE GY Equity  \n",
       "2014-01-02             NaN            NaN            NaN            NaN  \n",
       "2014-01-03        0.000496       0.009238       0.011242       0.011542  \n",
       "2014-01-06       -0.010312       0.005721      -0.017918      -0.006520  \n",
       "2014-01-07        0.035467       0.004551       0.020109       0.004922  \n",
       "2014-01-08        0.021287      -0.016421       0.004830      -0.002041  \n",
       "...                    ...            ...            ...            ...  \n",
       "2018-12-21        0.014214      -0.003761      -0.001508      -0.007603  \n",
       "2018-12-24       -0.018019       0.000000      -0.018798       0.000000  \n",
       "2018-12-27       -0.013735      -0.018441      -0.018987      -0.027981  \n",
       "2018-12-28        0.018170       0.016864       0.002616       0.015764  \n",
       "2018-12-31        0.005557       0.000000       0.003478       0.000000  \n",
       "\n",
       "[1272 rows x 40 columns]"
      ]
     },
     "execution_count": 6,
     "metadata": {},
     "output_type": "execute_result"
    }
   ],
   "source": [
    "price_to_returns(prices)"
   ]
  },
  {
   "cell_type": "markdown",
   "id": "ea858983-0e6e-484c-89e5-e7de6e8a435f",
   "metadata": {},
   "source": [
    "## Example with single stock"
   ]
  },
  {
   "cell_type": "code",
   "execution_count": 15,
   "id": "3f24b3f0-4b21-4ed1-9727-0a47ad01171c",
   "metadata": {},
   "outputs": [],
   "source": [
    "price = prices.iloc[:, 0]\n",
    "returns = price_to_returns(price, log=True, drop_na=True)"
   ]
  },
  {
   "cell_type": "markdown",
   "id": "598b895c-90fd-438d-bf79-8c955b5ccdaa",
   "metadata": {},
   "source": [
    "We will use returns timie series."
   ]
  },
  {
   "cell_type": "markdown",
   "id": "45418f3b-11cd-47d1-aadb-105514658478",
   "metadata": {},
   "source": [
    "### Split train and test"
   ]
  },
  {
   "cell_type": "code",
   "execution_count": 43,
   "id": "0b973da7-211a-43e0-9419-d2469ceb7d60",
   "metadata": {},
   "outputs": [],
   "source": [
    "# From pandas to numpy\n",
    "returns = returns.to_numpy()"
   ]
  },
  {
   "cell_type": "code",
   "execution_count": 44,
   "id": "eebc950c-a6fc-46a5-a961-fa165ecfc3dc",
   "metadata": {},
   "outputs": [
    {
     "data": {
      "text/plain": [
       "array([ 0.        , -0.00876646,  0.00626956, ..., -0.04175293,\n",
       "        0.01071074,  0.        ])"
      ]
     },
     "execution_count": 44,
     "metadata": {},
     "output_type": "execute_result"
    }
   ],
   "source": [
    "returns"
   ]
  },
  {
   "cell_type": "code",
   "execution_count": 51,
   "id": "9344cb89-832b-4d9f-be04-bd49cb344c21",
   "metadata": {},
   "outputs": [],
   "source": [
    "def split_data(x: np.array, train_size: float = 0.8):\n",
    "    index = int(len(x) * 0.8)\n",
    "    train = x[: index ]\n",
    "    test = x[index: ]\n",
    "    return train, test"
   ]
  },
  {
   "cell_type": "code",
   "execution_count": 52,
   "id": "dc7379a1-cf0a-41c6-b010-e36a583e7f2d",
   "metadata": {},
   "outputs": [],
   "source": [
    "ret_train, ret_test = split_data(returns)"
   ]
  },
  {
   "cell_type": "code",
   "execution_count": 53,
   "id": "2bdaf4ec-df1d-4b0b-8914-53c6193c04fe",
   "metadata": {},
   "outputs": [
    {
     "data": {
      "text/plain": [
       "array([ 0.        , -0.00876646,  0.00626956, ..., -0.00736928,\n",
       "       -0.00802021, -0.00089511])"
      ]
     },
     "execution_count": 53,
     "metadata": {},
     "output_type": "execute_result"
    }
   ],
   "source": [
    "ret_train"
   ]
  },
  {
   "cell_type": "code",
   "execution_count": 54,
   "id": "2d009a3c-ddca-43cf-b14f-a67b51a3bec7",
   "metadata": {},
   "outputs": [
    {
     "data": {
      "text/plain": [
       "array([-0.00628838, -0.00451607,  0.03405442,  0.0173475 ,  0.02692164,\n",
       "        0.00356506,  0.00222182, -0.0113829 , -0.00224709,  0.01129702,\n",
       "        0.00044469,  0.02253468, -0.01809754, -0.00410361,  0.0206782 ,\n",
       "        0.02568515, -0.00660001, -0.01745349, -0.01445013,  0.00286275,\n",
       "        0.00098909, -0.01929748, -0.008886  ,  0.00327113, -0.03169062,\n",
       "       -0.01889171, -0.02143155,  0.03636339, -0.03915073, -0.00975615,\n",
       "        0.0161676 , -0.01298635,  0.01431186, -0.00603933,  0.01323876,\n",
       "       -0.00852495, -0.00604747, -0.00791674,  0.00219866, -0.00808523,\n",
       "        0.01791959, -0.00898067, -0.01808282, -0.02488491, -0.02187156,\n",
       "       -0.00143179,  0.02228466, -0.00638972,  0.00460475,  0.00102041,\n",
       "        0.01077802, -0.02593568,  0.0140096 ,  0.02707123,  0.00693242,\n",
       "       -0.01604211,  0.01097139, -0.00497214, -0.01582551, -0.02759594,\n",
       "        0.0068739 ,  0.01105412, -0.00937539,  0.04033681,  0.00617736,\n",
       "       -0.00543411,  0.03420691, -0.01276656, -0.00449506,  0.04359914,\n",
       "        0.00916645,  0.01967132,  0.00384306, -0.02942236,  0.01499117,\n",
       "       -0.0021771 , -0.00621338, -0.01266049, -0.00974935,  0.00117961,\n",
       "       -0.01568469,  0.02623952,  0.00743842, -0.00510796,  0.03432047,\n",
       "       -0.01017305, -0.01903946,  0.02006145, -0.0142884 , -0.01695153,\n",
       "        0.00467289,  0.00407102, -0.00558735,  0.01275825, -0.00693883,\n",
       "        0.00970094, -0.00530071,  0.        ,  0.02001785, -0.02778921,\n",
       "       -0.02571198,  0.01623545, -0.01767017, -0.02815029,  0.00991854,\n",
       "       -0.01968805,  0.00742852,  0.00036995,  0.00036982,  0.00455023,\n",
       "       -0.00061371, -0.02171978, -0.00100415,  0.00200752,  0.00137781,\n",
       "        0.02203605, -0.0143053 , -0.03128806, -0.02438822,  0.01395335,\n",
       "       -0.0315733 , -0.00173892, -0.02466918, -0.00840631,  0.01388046,\n",
       "       -0.02347526, -0.006448  , -0.00790628,  0.00635821,  0.00491742,\n",
       "        0.03970573, -0.00499625, -0.01184735, -0.00013703, -0.02188447,\n",
       "        0.00055993,  0.00766823, -0.00892861,  0.00948401,  0.02223845,\n",
       "        0.00460511, -0.02282608,  0.00853521,  0.02771392, -0.02757682,\n",
       "        0.03884641, -0.00383068,  0.00224736,  0.00500532, -0.03761904,\n",
       "       -0.02206999,  0.01343795,  0.00096276,  0.0095774 ,  0.0063794 ,\n",
       "        0.0001352 , -0.02368186, -0.00277437, -0.0075293 , -0.03170802,\n",
       "        0.00719736, -0.00503268,  0.00187222,  0.01229814, -0.0135939 ,\n",
       "       -0.00635937,  0.00043484,  0.0247634 ,  0.01348142, -0.00153559,\n",
       "       -0.00209778, -0.01424063, -0.02080566, -0.01269448, -0.00044059,\n",
       "        0.0007343 , -0.00117509,  0.01038097, -0.00087311,  0.00739718,\n",
       "        0.0170504 ,  0.02261488,  0.00332778,  0.02569155,  0.01910933,\n",
       "        0.00922264,  0.01225253, -0.00937138, -0.01621555,  0.00543445,\n",
       "        0.01677843, -0.0147975 ,  0.00591902,  0.00288114, -0.00563906,\n",
       "       -0.01844892, -0.01552517, -0.00313418, -0.02068469, -0.02154859,\n",
       "       -0.0022805 ,  0.02994111,  0.02055988, -0.00217296, -0.0103869 ,\n",
       "       -0.0110514 , -0.01145581, -0.01872131, -0.0438988 ,  0.02438248,\n",
       "       -0.00087623,  0.03967574,  0.02988192,  0.01367189,  0.01851539,\n",
       "        0.0184379 ,  0.00697231,  0.0044932 , -0.00758597, -0.02390242,\n",
       "       -0.03524715, -0.00150739,  0.01443192,  0.00901574, -0.01118089,\n",
       "       -0.02551928,  0.01926843, -0.00656462,  0.04428477, -0.00289213,\n",
       "       -0.00620664,  0.02097332, -0.04090846,  0.00686826,  0.00695467,\n",
       "       -0.00776031,  0.02833875, -0.0307594 , -0.00634826, -0.03166132,\n",
       "        0.00335095, -0.0175776 ,  0.03567338,  0.0272768 , -0.00293495,\n",
       "       -0.01331464, -0.00842973, -0.00136624,  0.00409338, -0.02049741,\n",
       "       -0.00417821,  0.        , -0.04175293,  0.01071074,  0.        ])"
      ]
     },
     "execution_count": 54,
     "metadata": {},
     "output_type": "execute_result"
    }
   ],
   "source": [
    "ret_test"
   ]
  },
  {
   "cell_type": "code",
   "execution_count": 62,
   "id": "8f29443a-0543-44d9-8310-f81cc9a09d09",
   "metadata": {},
   "outputs": [
    {
     "data": {
      "image/png": "[encoded data removed]",
      "text/plain": [
       "<Figure size 640x480 with 1 Axes>"
      ]
     },
     "metadata": {},
     "output_type": "display_data"
    }
   ],
   "source": [
    "fig, ax = plt.subplots()\n",
    "x1 = np.arange(len(ret_train))\n",
    "x2 = np.arange(len(ret_train), len(ret_train) + len(ret_test))\n",
    "ax.plot(x1, ret_train, label=\"train\")\n",
    "ax.plot(x2, ret_test, label=\"test\")\n",
    "ax.legend()\n",
    "plt.show()"
   ]
  },
  {
   "cell_type": "code",
   "execution_count": 64,
   "id": "441ad106-ef17-4d54-b6b5-4105e16a2cc8",
   "metadata": {},
   "outputs": [],
   "source": [
    "def create_X_y(returns: np.array, window=15):\n",
    "    X = []\n",
    "    Y = []\n",
    "    for i in range(len(returns) - window):\n",
    "        x = np.array(returns[i: i + window]).reshape(window, 1)\n",
    "        y = returns[i + window]\n",
    "        X.append(x)\n",
    "        Y.append(y)\n",
    "    return np.array(X), np.array(Y)"
   ]
  },
  {
   "cell_type": "code",
   "execution_count": 66,
   "id": "90ebfbe1-0516-4cd4-9a60-9d233c76c454",
   "metadata": {},
   "outputs": [],
   "source": [
    "X_train, y_train = create_X_y(returns)"
   ]
  },
  {
   "cell_type": "code",
   "execution_count": 68,
   "id": "c67cd7bc-86f0-46d2-9ca8-daac097ed86c",
   "metadata": {},
   "outputs": [
    {
     "data": {
      "text/plain": [
       "(1256, 15, 1)"
      ]
     },
     "execution_count": 68,
     "metadata": {},
     "output_type": "execute_result"
    }
   ],
   "source": [
    "X_train.shape"
   ]
  },
  {
   "cell_type": "code",
   "execution_count": 69,
   "id": "1a7d7b82-4331-48b6-bb5a-a51bf5bc4442",
   "metadata": {},
   "outputs": [
    {
     "data": {
      "text/plain": [
       "array([[ 0.        ],\n",
       "       [-0.00876646],\n",
       "       [ 0.00626956],\n",
       "       [ 0.00074971],\n",
       "       [-0.00350348],\n",
       "       [ 0.01295162],\n",
       "       [ 0.00271838],\n",
       "       [-0.02397711],\n",
       "       [ 0.02447059],\n",
       "       [-0.00172812],\n",
       "       [ 0.0049297 ],\n",
       "       [-0.00024588],\n",
       "       [-0.00344919],\n",
       "       [-0.00643726],\n",
       "       [-0.01526744]])"
      ]
     },
     "execution_count": 69,
     "metadata": {},
     "output_type": "execute_result"
    }
   ],
   "source": [
    "X_train[0]"
   ]
  },
  {
   "cell_type": "code",
   "execution_count": null,
   "id": "3f32bc0b-bf7d-40d4-a477-1243af7d14d0",
   "metadata": {},
   "outputs": [],
   "source": []
  }
 ],
 "metadata": {
  "kernelspec": {
   "display_name": "Python 3 (ipykernel)",
   "language": "python",
   "name": "python3"
  },
  "language_info": {
   "codemirror_mode": {
    "name": "ipython",
    "version": 3
   },
   "file_extension": ".py",
   "mimetype": "text/x-python",
   "name": "python",
   "nbconvert_exporter": "python",
   "pygments_lexer": "ipython3",
   "version": "3.10.13"
  }
 },
 "nbformat": 4,
 "nbformat_minor": 5
}
